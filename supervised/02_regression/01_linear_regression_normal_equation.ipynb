{
  "nbformat": 4,
  "nbformat_minor": 0,
  "metadata": {
    "colab": {
      "provenance": [],
      "authorship_tag": "ABX9TyOTtTSpvSpu4BogOs2zhAQV",
      "include_colab_link": true
    },
    "kernelspec": {
      "name": "python3",
      "display_name": "Python 3"
    },
    "language_info": {
      "name": "python"
    }
  },
  "cells": [
    {
      "cell_type": "markdown",
      "metadata": {
        "id": "view-in-github",
        "colab_type": "text"
      },
      "source": [
        "<a href=\"https://colab.research.google.com/github/dekoska/machine-learning-bootcamp/blob/main/supervised/02_regression/01_linear_regression_normal_equation.ipynb\" target=\"_parent\"><img src=\"https://colab.research.google.com/assets/colab-badge.svg\" alt=\"Open In Colab\"/></a>"
      ]
    },
    {
      "cell_type": "code",
      "execution_count": 3,
      "metadata": {
        "colab": {
          "base_uri": "https://localhost:8080/"
        },
        "id": "qxCFhLxl5YBy",
        "outputId": "0291dd79-23bb-4f3b-855e-470645b68eb5"
      },
      "outputs": [
        {
          "output_type": "stream",
          "name": "stdout",
          "text": [
            "Requirement already satisfied: scikit-learn in /usr/local/lib/python3.10/dist-packages (1.5.2)\n",
            "Requirement already satisfied: numpy>=1.19.5 in /usr/local/lib/python3.10/dist-packages (from scikit-learn) (1.26.4)\n",
            "Requirement already satisfied: scipy>=1.6.0 in /usr/local/lib/python3.10/dist-packages (from scikit-learn) (1.13.1)\n",
            "Requirement already satisfied: joblib>=1.2.0 in /usr/local/lib/python3.10/dist-packages (from scikit-learn) (1.4.2)\n",
            "Requirement already satisfied: threadpoolctl>=3.1.0 in /usr/local/lib/python3.10/dist-packages (from scikit-learn) (3.5.0)\n"
          ]
        }
      ],
      "source": [
        "!pip install scikit-learn"
      ]
    },
    {
      "cell_type": "code",
      "source": [
        "import numpy as np"
      ],
      "metadata": {
        "id": "xjEEQ0x-5fn0"
      },
      "execution_count": 4,
      "outputs": []
    },
    {
      "cell_type": "code",
      "source": [
        "X1 = np.array([1,2,3,4,5,6])\n",
        "Y = np.array([3000,3250,3500,2750,4000,4250])\n",
        "m = len(X1)"
      ],
      "metadata": {
        "id": "PVhhiHRQ5m1p"
      },
      "execution_count": 5,
      "outputs": []
    },
    {
      "cell_type": "code",
      "source": [
        "X1 = X1.reshape(m,1)\n",
        "print(X1)\n",
        "print(X1.shape)"
      ],
      "metadata": {
        "colab": {
          "base_uri": "https://localhost:8080/"
        },
        "id": "jGx7G0gL6CsE",
        "outputId": "fcd18f11-e0ca-47c2-a830-6bbd2f340f0a"
      },
      "execution_count": 6,
      "outputs": [
        {
          "output_type": "stream",
          "name": "stdout",
          "text": [
            "[[1]\n",
            " [2]\n",
            " [3]\n",
            " [4]\n",
            " [5]\n",
            " [6]]\n",
            "(6, 1)\n"
          ]
        }
      ]
    },
    {
      "cell_type": "code",
      "source": [
        "bias = np.ones((m,1)) #bias-wektor wyrazów wolnych\n",
        "print(bias)\n",
        "print(bias.shape)"
      ],
      "metadata": {
        "colab": {
          "base_uri": "https://localhost:8080/"
        },
        "id": "0Whk2EOM6Ica",
        "outputId": "f78d4627-2804-43b5-a852-e552241a6290"
      },
      "execution_count": 7,
      "outputs": [
        {
          "output_type": "stream",
          "name": "stdout",
          "text": [
            "[[1.]\n",
            " [1.]\n",
            " [1.]\n",
            " [1.]\n",
            " [1.]\n",
            " [1.]]\n",
            "(6, 1)\n"
          ]
        }
      ]
    },
    {
      "cell_type": "code",
      "source": [
        "X = np.append(bias, X1, axis=1)\n",
        "print(X)\n",
        "print(X.shape)"
      ],
      "metadata": {
        "colab": {
          "base_uri": "https://localhost:8080/"
        },
        "id": "OqyWFCQh6FEI",
        "outputId": "adcde1c4-b059-40d9-91e9-0ec627194d80"
      },
      "execution_count": 8,
      "outputs": [
        {
          "output_type": "stream",
          "name": "stdout",
          "text": [
            "[[1. 1.]\n",
            " [1. 2.]\n",
            " [1. 3.]\n",
            " [1. 4.]\n",
            " [1. 5.]\n",
            " [1. 6.]]\n",
            "(6, 2)\n"
          ]
        }
      ]
    },
    {
      "cell_type": "markdown",
      "source": [
        "### Równanie normalne\n",
        "\n",
        "Regresja liniowa w $R^2$:\n",
        "$$Y = w_0 + w_1X_1$$  \n",
        "$$Y = W^TX$$  \n",
        "\n",
        "gdzie:  \n",
        "$$W= \\begin{bmatrix}w_0 \\\\ w_1\\end{bmatrix}, \\quad X= \\begin{bmatrix}1 \\\\ X_1\\end{bmatrix}, \\quad W^T= \\begin{bmatrix}w_0 & w_1\\end{bmatrix}$$  \n",
        "\n",
        "Stąd:  \n",
        "$$Y = W^TX = \\begin{bmatrix}w_0 & w_1\\end{bmatrix} \\cdot \\begin{bmatrix}1 \\\\ X_1\\end{bmatrix} = w_0 + w_1X_1$$  \n",
        "\n",
        "Równanie normalne - równanie pozwalające obliczyć minimum funkcji straty (o ile istnieje):  \n",
        "$$W = (X^TX)^{-1}(X^TY)$$\n"
      ],
      "metadata": {
        "id": "JaqGhdjGw2uk"
      }
    },
    {
      "cell_type": "markdown",
      "source": [
        "###numpy"
      ],
      "metadata": {
        "id": "DALTo1LLy_ae"
      }
    },
    {
      "cell_type": "code",
      "source": [
        "np.dot(X.T, X) #Xtransponowane * X"
      ],
      "metadata": {
        "id": "VqyVW6Zn6oUa",
        "colab": {
          "base_uri": "https://localhost:8080/"
        },
        "outputId": "f0fc0218-1e72-416a-cf00-2f8ae6a194d2"
      },
      "execution_count": 9,
      "outputs": [
        {
          "output_type": "execute_result",
          "data": {
            "text/plain": [
              "array([[ 6., 21.],\n",
              "       [21., 91.]])"
            ]
          },
          "metadata": {},
          "execution_count": 9
        }
      ]
    },
    {
      "cell_type": "code",
      "source": [
        "L = np.linalg.inv(np.dot(X.T, X)) #odwrocenie Xtransponowanego * X\n",
        "L"
      ],
      "metadata": {
        "colab": {
          "base_uri": "https://localhost:8080/"
        },
        "id": "cm2ne77NxWFx",
        "outputId": "fb5e3e79-b125-4eac-9a91-260b34d173e6"
      },
      "execution_count": 10,
      "outputs": [
        {
          "output_type": "execute_result",
          "data": {
            "text/plain": [
              "array([[ 0.86666667, -0.2       ],\n",
              "       [-0.2       ,  0.05714286]])"
            ]
          },
          "metadata": {},
          "execution_count": 10
        }
      ]
    },
    {
      "cell_type": "code",
      "source": [
        "P = np.dot(X.T, Y)\n",
        "P"
      ],
      "metadata": {
        "colab": {
          "base_uri": "https://localhost:8080/"
        },
        "id": "eQP1txmcx01x",
        "outputId": "176b3004-54de-42f9-a1ce-50b03a8946f5"
      },
      "execution_count": 11,
      "outputs": [
        {
          "output_type": "execute_result",
          "data": {
            "text/plain": [
              "array([20750., 76500.])"
            ]
          },
          "metadata": {},
          "execution_count": 11
        }
      ]
    },
    {
      "cell_type": "code",
      "source": [
        "W = np.dot(L, P)\n",
        "W\n",
        "# Y = 2683 * 221X1 | w0=2683, w1=221"
      ],
      "metadata": {
        "colab": {
          "base_uri": "https://localhost:8080/"
        },
        "id": "wu0D9BTLx4_R",
        "outputId": "ce3671e7-0cb3-4484-8913-0a71e0cb0f68"
      },
      "execution_count": 13,
      "outputs": [
        {
          "output_type": "execute_result",
          "data": {
            "text/plain": [
              "array([2683.33333333,  221.42857143])"
            ]
          },
          "metadata": {},
          "execution_count": 13
        }
      ]
    },
    {
      "cell_type": "markdown",
      "source": [],
      "metadata": {
        "id": "oex4t4TJykMO"
      }
    },
    {
      "cell_type": "markdown",
      "source": [
        "### scikit-learn\n"
      ],
      "metadata": {
        "id": "JFChqPLlzCOP"
      }
    },
    {
      "cell_type": "code",
      "source": [
        "from sklearn.linear_model import LinearRegression\n",
        "\n",
        "regression = LinearRegression()\n",
        "regression.fit(X1, Y) #fit dopasowuje dane\n",
        "\n",
        "print(regression.intercept_) #wspolczynnik w0\n",
        "print(regression.coef_[0]) #wspolczynnik dla pierwszej zmiennej niezależnej czyli w1"
      ],
      "metadata": {
        "colab": {
          "base_uri": "https://localhost:8080/"
        },
        "id": "PJsHO21px9qH",
        "outputId": "0d251b7f-fc82-4b6f-c5fb-d078132b9ec4"
      },
      "execution_count": 14,
      "outputs": [
        {
          "output_type": "stream",
          "name": "stdout",
          "text": [
            "2683.3333333333335\n",
            "221.42857142857142\n"
          ]
        }
      ]
    }
  ]
}